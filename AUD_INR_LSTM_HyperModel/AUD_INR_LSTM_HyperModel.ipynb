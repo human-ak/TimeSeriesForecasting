{
 "cells": [
  {
   "cell_type": "markdown",
   "metadata": {},
   "source": [
    "## Forecasting Australian Dollar to Indian Rupee weekly exchange rates for the next 12 weeks using LSTM with HyperModel"
   ]
  },
  {
   "cell_type": "markdown",
   "metadata": {},
   "source": [
    "## Libraries"
   ]
  },
  {
   "cell_type": "code",
   "execution_count": 1,
   "metadata": {},
   "outputs": [
    {
     "name": "stderr",
     "output_type": "stream",
     "text": [
      "2024-11-21 12:24:43.235360: I tensorflow/core/util/port.cc:153] oneDNN custom operations are on. You may see slightly different numerical results due to floating-point round-off errors from different computation orders. To turn them off, set the environment variable `TF_ENABLE_ONEDNN_OPTS=0`.\n",
      "2024-11-21 12:24:43.329524: E external/local_xla/xla/stream_executor/cuda/cuda_fft.cc:485] Unable to register cuFFT factory: Attempting to register factory for plugin cuFFT when one has already been registered\n",
      "2024-11-21 12:24:43.363822: E external/local_xla/xla/stream_executor/cuda/cuda_dnn.cc:8454] Unable to register cuDNN factory: Attempting to register factory for plugin cuDNN when one has already been registered\n",
      "2024-11-21 12:24:43.374194: E external/local_xla/xla/stream_executor/cuda/cuda_blas.cc:1452] Unable to register cuBLAS factory: Attempting to register factory for plugin cuBLAS when one has already been registered\n",
      "2024-11-21 12:24:43.461509: I tensorflow/core/platform/cpu_feature_guard.cc:210] This TensorFlow binary is optimized to use available CPU instructions in performance-critical operations.\n",
      "To enable the following instructions: SSE4.1 SSE4.2 AVX AVX2 AVX_VNNI FMA, in other operations, rebuild TensorFlow with the appropriate compiler flags.\n"
     ]
    }
   ],
   "source": [
    "import pandas as pd\n",
    "import numpy as np\n",
    "import yfinance as yf\n",
    "import xlsxwriter\n",
    "import plotly.express as px\n",
    "from scipy.stats import skew, kurtosis\n",
    "import tensorflow as tf\n",
    "import keras_tuner as kt\n",
    "from keras_tuner import HyperModel\n",
    "import os\n",
    "import datetime\n",
    "import matplotlib.pyplot as plt\n",
    "import statsmodels.api as sm\n",
    "from statsmodels.tsa.stattools import adfuller\n",
    "from pyts.image import GramianAngularField\n",
    "from sklearn import metrics\n",
    "from sklearn.metrics import classification_report\n",
    "from sklearn.metrics import mean_absolute_error, mean_squared_error, r2_score, mean_absolute_percentage_error\n",
    "from sklearn.preprocessing import MinMaxScaler\n",
    "from sklearn.model_selection import train_test_split\n",
    "from sklearn.preprocessing import StandardScaler\n",
    "from tensorflow.keras.models import Sequential\n",
    "from tensorflow.keras.layers import LSTM, Dense, Dropout, Flatten\n",
    "from keras import backend as K\n",
    "from tensorflow.keras import layers, models\n",
    "from tensorflow.keras.preprocessing.image import img_to_array, array_to_img\n",
    "from tensorflow.keras.layers import LeakyReLU"
   ]
  },
  {
   "cell_type": "markdown",
   "metadata": {},
   "source": [
    "## data"
   ]
  },
  {
   "cell_type": "code",
   "execution_count": 2,
   "metadata": {},
   "outputs": [
    {
     "name": "stderr",
     "output_type": "stream",
     "text": [
      "[*********************100%***********************]  1 of 1 completed\n"
     ]
    },
    {
     "data": {
      "text/html": [
       "<div>\n",
       "<style scoped>\n",
       "    .dataframe tbody tr th:only-of-type {\n",
       "        vertical-align: middle;\n",
       "    }\n",
       "\n",
       "    .dataframe tbody tr th {\n",
       "        vertical-align: top;\n",
       "    }\n",
       "\n",
       "    .dataframe thead th {\n",
       "        text-align: right;\n",
       "    }\n",
       "</style>\n",
       "<table border=\"1\" class=\"dataframe\">\n",
       "  <thead>\n",
       "    <tr style=\"text-align: right;\">\n",
       "      <th>Ticker</th>\n",
       "      <th>AUDINR=X</th>\n",
       "    </tr>\n",
       "    <tr>\n",
       "      <th>Date</th>\n",
       "      <th></th>\n",
       "    </tr>\n",
       "  </thead>\n",
       "  <tbody>\n",
       "    <tr>\n",
       "      <th>2005-01-09</th>\n",
       "      <td>33.406600</td>\n",
       "    </tr>\n",
       "    <tr>\n",
       "      <th>2005-01-16</th>\n",
       "      <td>33.239000</td>\n",
       "    </tr>\n",
       "    <tr>\n",
       "      <th>2005-01-23</th>\n",
       "      <td>33.121400</td>\n",
       "    </tr>\n",
       "    <tr>\n",
       "      <th>2005-01-30</th>\n",
       "      <td>33.709600</td>\n",
       "    </tr>\n",
       "    <tr>\n",
       "      <th>2005-02-06</th>\n",
       "      <td>33.603401</td>\n",
       "    </tr>\n",
       "    <tr>\n",
       "      <th>...</th>\n",
       "      <td>...</td>\n",
       "    </tr>\n",
       "    <tr>\n",
       "      <th>2024-10-06</th>\n",
       "      <td>57.701152</td>\n",
       "    </tr>\n",
       "    <tr>\n",
       "      <th>2024-10-13</th>\n",
       "      <td>56.615109</td>\n",
       "    </tr>\n",
       "    <tr>\n",
       "      <th>2024-10-20</th>\n",
       "      <td>56.304502</td>\n",
       "    </tr>\n",
       "    <tr>\n",
       "      <th>2024-10-27</th>\n",
       "      <td>55.834124</td>\n",
       "    </tr>\n",
       "    <tr>\n",
       "      <th>2024-11-03</th>\n",
       "      <td>55.178346</td>\n",
       "    </tr>\n",
       "  </tbody>\n",
       "</table>\n",
       "<p>1035 rows × 1 columns</p>\n",
       "</div>"
      ],
      "text/plain": [
       "Ticker       AUDINR=X\n",
       "Date                 \n",
       "2005-01-09  33.406600\n",
       "2005-01-16  33.239000\n",
       "2005-01-23  33.121400\n",
       "2005-01-30  33.709600\n",
       "2005-02-06  33.603401\n",
       "...               ...\n",
       "2024-10-06  57.701152\n",
       "2024-10-13  56.615109\n",
       "2024-10-20  56.304502\n",
       "2024-10-27  55.834124\n",
       "2024-11-03  55.178346\n",
       "\n",
       "[1035 rows x 1 columns]"
      ]
     },
     "execution_count": 2,
     "metadata": {},
     "output_type": "execute_result"
    }
   ],
   "source": [
    "# Defining the start and end dates\n",
    "start_date = '2005-01-01'\n",
    "end_date = '2024-10-31'\n",
    "\n",
    "# Downloading historical data of Australian Dollar to Indian Rupee from Yahoo Finance\n",
    "data = yf.download('AUDINR=X', start=start_date, end=end_date)['Adj Close'].resample(\"W\").mean().ffill()\n",
    "\n",
    "data"
   ]
  },
  {
   "cell_type": "markdown",
   "metadata": {},
   "source": [
    "We use the previous 12 weeks rates to predict that of the upcoming 12 weeks."
   ]
  },
  {
   "cell_type": "code",
   "execution_count": 3,
   "metadata": {},
   "outputs": [],
   "source": [
    "window_size = 12\n",
    "X = data.values\n",
    "X_time = data.index\n",
    "Xdf = []\n",
    "ydf = []\n",
    "time = []\n",
    "for i in range(0, len(X)-2*window_size+1): \n",
    "    Xdf.append(X[i:i+window_size])\n",
    "    ydf.append(X[i+window_size:i+2*window_size])\n",
    "    time.append(X_time[i+window_size:i+2*window_size])\n",
    "\n",
    "Xdf = np.array(Xdf, dtype='float32')\n",
    "ydf = np.array(ydf, dtype='float32')"
   ]
  },
  {
   "cell_type": "markdown",
   "metadata": {},
   "source": [
    "## split"
   ]
  },
  {
   "cell_type": "code",
   "execution_count": 4,
   "metadata": {},
   "outputs": [
    {
     "data": {
      "text/plain": [
       "200"
      ]
     },
     "execution_count": 4,
     "metadata": {},
     "output_type": "execute_result"
    }
   ],
   "source": [
    "ts = 200#int(0.4 * len(data)) \n",
    "\n",
    "test_time = time[-ts:]\n",
    "\n",
    "len(test_time)"
   ]
  },
  {
   "cell_type": "code",
   "execution_count": 5,
   "metadata": {},
   "outputs": [
    {
     "name": "stdout",
     "output_type": "stream",
     "text": [
      "(812, 12, 1) (200, 12, 1) (812, 12, 1) (200, 12, 1)\n"
     ]
    }
   ],
   "source": [
    "X_train, X_test, y_train, y_test = train_test_split(\n",
    "    Xdf, ydf, test_size=ts, shuffle=False\n",
    ")\n",
    "print(X_train.shape, X_test.shape, y_train.shape, y_test.shape)"
   ]
  },
  {
   "cell_type": "code",
   "execution_count": 6,
   "metadata": {},
   "outputs": [],
   "source": [
    "X_train_scaled = []\n",
    "scaler_input = StandardScaler()\n",
    "X_train_scaled.append(scaler_input.fit_transform(X_train[0]))\n",
    "for i in range(1, len(X_train)):\n",
    "    X_train_scaled.append(scaler_input.transform(X_train[i]))\n",
    "X_train_scaled = np.array(X_train_scaled)\n"
   ]
  },
  {
   "cell_type": "code",
   "execution_count": 7,
   "metadata": {},
   "outputs": [],
   "source": [
    "y_train_scaled = []\n",
    "scaler_output = StandardScaler()\n",
    "y_train_scaled.append(scaler_output.fit_transform(y_train[0]))\n",
    "for i in range(1, len(y_train)):\n",
    "    y_train_scaled.append(scaler_output.transform(y_train[i]))\n",
    "y_train_scaled = np.array(y_train_scaled)\n"
   ]
  },
  {
   "cell_type": "code",
   "execution_count": 8,
   "metadata": {},
   "outputs": [],
   "source": [
    "X_test_scaled = []\n",
    "for i in range(0, len(X_test)):\n",
    "    X_test_scaled.append(scaler_input.transform(X_test[i]))\n",
    "X_test_scaled = np.array(X_test_scaled)\n"
   ]
  },
  {
   "cell_type": "markdown",
   "metadata": {},
   "source": [
    "## model"
   ]
  },
  {
   "cell_type": "code",
   "execution_count": 9,
   "metadata": {},
   "outputs": [],
   "source": [
    "tf.keras.backend.clear_session()\n",
    "tf.random.set_seed(42)\n",
    "val_split = 0.2\n",
    "SEED = 42\n",
    "\n",
    "class LSTM_model(HyperModel):\n",
    "    def build(self, hp):\n",
    "        \n",
    "        #act_fun = \"LeakyReLU\"\n",
    "        # We do ask the Keras Tuner to choose whether is best to have a dropout rate after each hidden layer of 0.1 or 0.2 or 0.3\n",
    "        n_dropout = hp.Choice(\"n_dropout\", values=[0.10, 0.20, 0.30])\n",
    "\n",
    "        model = tf.keras.models.Sequential()\n",
    "\n",
    "        model.add(\n",
    "                LSTM(\n",
    "                    units=hp.Int(\n",
    "                        \"input_unit\", min_value=12, max_value=36, step=12\n",
    "                    ),\n",
    "                    return_sequences=True,\n",
    "                    #activation=act_fun,\n",
    "                    input_shape=(X_train_scaled.shape[1], X_train_scaled.shape[2]),\n",
    "                )\n",
    "        )\n",
    "        model.add(LeakyReLU(alpha=0.1))\n",
    "\n",
    "        # Now, we will use a loop to let the tuner choose the number of layers that is best for the model between 1 and 3\n",
    "        for i in range(1, hp.Int(\"num_layers\", 1, 3)):\n",
    "            # Within this loop, we will also ask the tuner to decide the optimal number of units that each of the selected layer should have.\n",
    "            model.add(\n",
    "                LSTM(\n",
    "                    units=hp.Int(\n",
    "                        f'lstm_{i}_units', min_value=36, max_value=60, step=12\n",
    "                    ),\n",
    "                    return_sequences=True,\n",
    "                    #activation=act_fun,\n",
    "                    )\n",
    "            )\n",
    "            model.add(LeakyReLU(alpha=0.1))\n",
    "            model.add(Dropout(n_dropout, seed=SEED))\n",
    "\n",
    "\n",
    "        model.add(\n",
    "                LSTM(\n",
    "                    units=hp.Int(\n",
    "                        f'lstm_units', min_value=12, max_value=36, step=12\n",
    "                    ),\n",
    "                    return_sequences=False,\n",
    "                    #activation=act_fun,\n",
    "                )\n",
    "            )\n",
    "        model.add(LeakyReLU(alpha=0.1))\n",
    "        model.add(Dropout(n_dropout, seed=SEED))\n",
    "\n",
    "\n",
    "        for i in range(1, hp.Int(\"num_layers\", 1, 2)):\n",
    "            # Within this loop, we will also ask the tuner to decide the optimal number of units that each of the selected layer should have.\n",
    "            model.add(\n",
    "                Dense(\n",
    "                    units=hp.Int(\n",
    "                        \"units_dense_\" + str(i), min_value=12, max_value=24, step=12\n",
    "                    ),\n",
    "                    #activation=act_fun,\n",
    "                )\n",
    "            )\n",
    "            model.add(LeakyReLU(alpha=0.1))\n",
    "            model.add(Dropout(n_dropout, seed=SEED))\n",
    "\n",
    "        model.add(Dense(units=12))\n",
    "\n",
    "        hp_lr = hp.Choice(\"hp_lr\", values=[1e-5, 1e-3, 1e-1])\n",
    "        adam = tf.keras.optimizers.Adam(learning_rate=hp_lr)\n",
    "        model.compile(optimizer=adam, loss=\"mean_absolute_error\")\n",
    "\n",
    "        return model"
   ]
  },
  {
   "cell_type": "code",
   "execution_count": 10,
   "metadata": {},
   "outputs": [
    {
     "name": "stdout",
     "output_type": "stream",
     "text": [
      "Trial 254 Complete [00h 00m 42s]\n",
      "val_loss: 4.170945167541504\n",
      "\n",
      "Best val_loss So Far: 2.8994696140289307\n",
      "Total elapsed time: 00h 34m 08s\n"
     ]
    }
   ],
   "source": [
    "# First, we clear the session just to make sure our seeds are correctly working and replicability is achieved\n",
    "K.clear_session()\n",
    "\n",
    "# Then, we call the model and perform the tuning:\n",
    "hypermodel = LSTM_model()\n",
    "tuner = kt.Hyperband(\n",
    "    hypermodel,\n",
    "    objective=kt.Objective(\"val_loss\", direction=\"min\"),\n",
    "    overwrite=True,\n",
    "    max_epochs=100,\n",
    "    seed=42,\n",
    "    directory=os.path.expanduser(\"~/keras_tuner\"), #os.path.normpath(\"C:/\"),\n",
    ")\n",
    "\n",
    "# Let's run the tuner! (Warning: this could take time)\n",
    "tuner.search(X_train_scaled,\n",
    "            y_train_scaled, \n",
    "            validation_split=val_split)\n",
    "\n",
    "best_hps = tuner.get_best_hyperparameters(num_trials=1)[0]"
   ]
  },
  {
   "cell_type": "code",
   "execution_count": 11,
   "metadata": {},
   "outputs": [
    {
     "data": {
      "text/plain": [
       "{'n_dropout': 0.2,\n",
       " 'input_unit': 24,\n",
       " 'num_layers': 1,\n",
       " 'lstm_units': 36,\n",
       " 'hp_lr': 0.1,\n",
       " 'lstm_1_units': 48,\n",
       " 'units_dense_1': 12,\n",
       " 'lstm_2_units': 36,\n",
       " 'units_dense_2': 12,\n",
       " 'tuner/epochs': 100,\n",
       " 'tuner/initial_epoch': 34,\n",
       " 'tuner/bracket': 3,\n",
       " 'tuner/round': 3,\n",
       " 'tuner/trial_id': '0203'}"
      ]
     },
     "execution_count": 11,
     "metadata": {},
     "output_type": "execute_result"
    }
   ],
   "source": [
    "best_hps.values"
   ]
  },
  {
   "cell_type": "code",
   "execution_count": 12,
   "metadata": {},
   "outputs": [
    {
     "name": "stdout",
     "output_type": "stream",
     "text": [
      "Epoch 1/100\n",
      "21/21 - 1s - 71ms/step - loss: 26.6013 - val_loss: 24.1380\n",
      "Epoch 2/100\n",
      "21/21 - 0s - 12ms/step - loss: 13.4471 - val_loss: 4.9309\n",
      "Epoch 3/100\n",
      "21/21 - 0s - 11ms/step - loss: 9.5140 - val_loss: 5.0129\n",
      "Epoch 4/100\n",
      "21/21 - 0s - 13ms/step - loss: 7.8378 - val_loss: 4.3625\n",
      "Epoch 5/100\n",
      "21/21 - 0s - 13ms/step - loss: 7.8527 - val_loss: 8.8318\n",
      "Epoch 6/100\n",
      "21/21 - 0s - 12ms/step - loss: 6.5649 - val_loss: 4.1308\n",
      "Epoch 7/100\n",
      "21/21 - 0s - 13ms/step - loss: 6.2452 - val_loss: 3.3884\n",
      "Epoch 8/100\n",
      "21/21 - 0s - 11ms/step - loss: 6.3104 - val_loss: 3.3699\n",
      "Epoch 9/100\n",
      "21/21 - 0s - 12ms/step - loss: 6.0456 - val_loss: 3.7845\n",
      "Epoch 10/100\n",
      "21/21 - 0s - 11ms/step - loss: 6.2949 - val_loss: 4.1404\n",
      "Epoch 11/100\n",
      "21/21 - 0s - 12ms/step - loss: 6.4968 - val_loss: 5.3433\n",
      "Epoch 12/100\n",
      "21/21 - 0s - 11ms/step - loss: 6.3426 - val_loss: 3.0256\n",
      "Epoch 13/100\n",
      "21/21 - 0s - 11ms/step - loss: 5.9318 - val_loss: 4.8221\n",
      "Epoch 14/100\n",
      "21/21 - 0s - 13ms/step - loss: 5.7499 - val_loss: 4.4029\n",
      "Epoch 15/100\n",
      "21/21 - 0s - 13ms/step - loss: 5.6559 - val_loss: 4.3338\n",
      "Epoch 16/100\n",
      "21/21 - 0s - 12ms/step - loss: 5.4847 - val_loss: 4.2636\n",
      "Epoch 17/100\n",
      "21/21 - 0s - 12ms/step - loss: 6.1819 - val_loss: 5.7912\n",
      "Epoch 18/100\n",
      "21/21 - 0s - 12ms/step - loss: 5.7616 - val_loss: 5.6797\n",
      "Epoch 19/100\n",
      "21/21 - 0s - 11ms/step - loss: 5.6774 - val_loss: 4.1573\n",
      "Epoch 20/100\n",
      "21/21 - 0s - 12ms/step - loss: 5.3513 - val_loss: 3.7452\n",
      "Epoch 21/100\n",
      "21/21 - 0s - 11ms/step - loss: 5.9947 - val_loss: 6.7053\n",
      "Epoch 22/100\n",
      "21/21 - 0s - 11ms/step - loss: 5.5129 - val_loss: 3.9028\n",
      "Epoch 23/100\n",
      "21/21 - 0s - 12ms/step - loss: 5.8090 - val_loss: 3.1816\n",
      "Epoch 24/100\n",
      "21/21 - 0s - 12ms/step - loss: 5.6702 - val_loss: 6.6763\n",
      "Epoch 25/100\n",
      "21/21 - 0s - 14ms/step - loss: 5.7721 - val_loss: 8.1734\n",
      "Epoch 26/100\n",
      "21/21 - 0s - 11ms/step - loss: 5.8951 - val_loss: 3.8737\n",
      "Epoch 27/100\n",
      "21/21 - 0s - 12ms/step - loss: 5.8129 - val_loss: 3.7543\n",
      "Epoch 28/100\n",
      "21/21 - 0s - 11ms/step - loss: 6.0685 - val_loss: 8.8137\n",
      "Epoch 29/100\n",
      "21/21 - 0s - 12ms/step - loss: 6.1772 - val_loss: 4.4362\n",
      "Epoch 30/100\n",
      "21/21 - 0s - 12ms/step - loss: 6.0040 - val_loss: 7.6124\n",
      "Epoch 31/100\n",
      "21/21 - 0s - 12ms/step - loss: 5.8241 - val_loss: 3.4872\n",
      "Epoch 32/100\n",
      "21/21 - 0s - 12ms/step - loss: 5.6586 - val_loss: 3.9076\n",
      "Epoch 32: early stopping\n",
      "Restoring model weights from the end of the best epoch: 12.\n"
     ]
    }
   ],
   "source": [
    "model = tuner.hypermodel.build(best_hps)\n",
    "\n",
    "es = tf.keras.callbacks.EarlyStopping(\n",
    "    monitor=\"val_loss\",\n",
    "    mode=\"min\",\n",
    "    verbose=1,\n",
    "    patience=20,\n",
    "    restore_best_weights=True,\n",
    ")\n",
    "\n",
    "# fit the model\n",
    "history = model.fit(\n",
    "    X_train_scaled,\n",
    "    y_train_scaled,\n",
    "    validation_split=0.2,\n",
    "    epochs=100,\n",
    "    batch_size=32,\n",
    "    verbose=2,\n",
    "    callbacks=[es],\n",
    ")"
   ]
  },
  {
   "cell_type": "code",
   "execution_count": 13,
   "metadata": {},
   "outputs": [
    {
     "data": {
      "text/html": [
       "<pre style=\"white-space:pre;overflow-x:auto;line-height:normal;font-family:Menlo,'DejaVu Sans Mono',consolas,'Courier New',monospace\"><span style=\"font-weight: bold\">Model: \"sequential_1\"</span>\n",
       "</pre>\n"
      ],
      "text/plain": [
       "\u001b[1mModel: \"sequential_1\"\u001b[0m\n"
      ]
     },
     "metadata": {},
     "output_type": "display_data"
    },
    {
     "data": {
      "text/html": [
       "<pre style=\"white-space:pre;overflow-x:auto;line-height:normal;font-family:Menlo,'DejaVu Sans Mono',consolas,'Courier New',monospace\">┏━━━━━━━━━━━━━━━━━━━━━━━━━━━━━━━━━┳━━━━━━━━━━━━━━━━━━━━━━━━┳━━━━━━━━━━━━━━━┓\n",
       "┃<span style=\"font-weight: bold\"> Layer (type)                    </span>┃<span style=\"font-weight: bold\"> Output Shape           </span>┃<span style=\"font-weight: bold\">       Param # </span>┃\n",
       "┡━━━━━━━━━━━━━━━━━━━━━━━━━━━━━━━━━╇━━━━━━━━━━━━━━━━━━━━━━━━╇━━━━━━━━━━━━━━━┩\n",
       "│ lstm_3 (<span style=\"color: #0087ff; text-decoration-color: #0087ff\">LSTM</span>)                   │ (<span style=\"color: #00d7ff; text-decoration-color: #00d7ff\">None</span>, <span style=\"color: #00af00; text-decoration-color: #00af00\">12</span>, <span style=\"color: #00af00; text-decoration-color: #00af00\">24</span>)         │         <span style=\"color: #00af00; text-decoration-color: #00af00\">2,496</span> │\n",
       "├─────────────────────────────────┼────────────────────────┼───────────────┤\n",
       "│ leaky_re_lu_4 (<span style=\"color: #0087ff; text-decoration-color: #0087ff\">LeakyReLU</span>)       │ (<span style=\"color: #00d7ff; text-decoration-color: #00d7ff\">None</span>, <span style=\"color: #00af00; text-decoration-color: #00af00\">12</span>, <span style=\"color: #00af00; text-decoration-color: #00af00\">24</span>)         │             <span style=\"color: #00af00; text-decoration-color: #00af00\">0</span> │\n",
       "├─────────────────────────────────┼────────────────────────┼───────────────┤\n",
       "│ lstm_4 (<span style=\"color: #0087ff; text-decoration-color: #0087ff\">LSTM</span>)                   │ (<span style=\"color: #00d7ff; text-decoration-color: #00d7ff\">None</span>, <span style=\"color: #00af00; text-decoration-color: #00af00\">36</span>)             │         <span style=\"color: #00af00; text-decoration-color: #00af00\">8,784</span> │\n",
       "├─────────────────────────────────┼────────────────────────┼───────────────┤\n",
       "│ leaky_re_lu_5 (<span style=\"color: #0087ff; text-decoration-color: #0087ff\">LeakyReLU</span>)       │ (<span style=\"color: #00d7ff; text-decoration-color: #00d7ff\">None</span>, <span style=\"color: #00af00; text-decoration-color: #00af00\">36</span>)             │             <span style=\"color: #00af00; text-decoration-color: #00af00\">0</span> │\n",
       "├─────────────────────────────────┼────────────────────────┼───────────────┤\n",
       "│ dropout_3 (<span style=\"color: #0087ff; text-decoration-color: #0087ff\">Dropout</span>)             │ (<span style=\"color: #00d7ff; text-decoration-color: #00d7ff\">None</span>, <span style=\"color: #00af00; text-decoration-color: #00af00\">36</span>)             │             <span style=\"color: #00af00; text-decoration-color: #00af00\">0</span> │\n",
       "├─────────────────────────────────┼────────────────────────┼───────────────┤\n",
       "│ dense_2 (<span style=\"color: #0087ff; text-decoration-color: #0087ff\">Dense</span>)                 │ (<span style=\"color: #00d7ff; text-decoration-color: #00d7ff\">None</span>, <span style=\"color: #00af00; text-decoration-color: #00af00\">12</span>)             │           <span style=\"color: #00af00; text-decoration-color: #00af00\">444</span> │\n",
       "└─────────────────────────────────┴────────────────────────┴───────────────┘\n",
       "</pre>\n"
      ],
      "text/plain": [
       "┏━━━━━━━━━━━━━━━━━━━━━━━━━━━━━━━━━┳━━━━━━━━━━━━━━━━━━━━━━━━┳━━━━━━━━━━━━━━━┓\n",
       "┃\u001b[1m \u001b[0m\u001b[1mLayer (type)                   \u001b[0m\u001b[1m \u001b[0m┃\u001b[1m \u001b[0m\u001b[1mOutput Shape          \u001b[0m\u001b[1m \u001b[0m┃\u001b[1m \u001b[0m\u001b[1m      Param #\u001b[0m\u001b[1m \u001b[0m┃\n",
       "┡━━━━━━━━━━━━━━━━━━━━━━━━━━━━━━━━━╇━━━━━━━━━━━━━━━━━━━━━━━━╇━━━━━━━━━━━━━━━┩\n",
       "│ lstm_3 (\u001b[38;5;33mLSTM\u001b[0m)                   │ (\u001b[38;5;45mNone\u001b[0m, \u001b[38;5;34m12\u001b[0m, \u001b[38;5;34m24\u001b[0m)         │         \u001b[38;5;34m2,496\u001b[0m │\n",
       "├─────────────────────────────────┼────────────────────────┼───────────────┤\n",
       "│ leaky_re_lu_4 (\u001b[38;5;33mLeakyReLU\u001b[0m)       │ (\u001b[38;5;45mNone\u001b[0m, \u001b[38;5;34m12\u001b[0m, \u001b[38;5;34m24\u001b[0m)         │             \u001b[38;5;34m0\u001b[0m │\n",
       "├─────────────────────────────────┼────────────────────────┼───────────────┤\n",
       "│ lstm_4 (\u001b[38;5;33mLSTM\u001b[0m)                   │ (\u001b[38;5;45mNone\u001b[0m, \u001b[38;5;34m36\u001b[0m)             │         \u001b[38;5;34m8,784\u001b[0m │\n",
       "├─────────────────────────────────┼────────────────────────┼───────────────┤\n",
       "│ leaky_re_lu_5 (\u001b[38;5;33mLeakyReLU\u001b[0m)       │ (\u001b[38;5;45mNone\u001b[0m, \u001b[38;5;34m36\u001b[0m)             │             \u001b[38;5;34m0\u001b[0m │\n",
       "├─────────────────────────────────┼────────────────────────┼───────────────┤\n",
       "│ dropout_3 (\u001b[38;5;33mDropout\u001b[0m)             │ (\u001b[38;5;45mNone\u001b[0m, \u001b[38;5;34m36\u001b[0m)             │             \u001b[38;5;34m0\u001b[0m │\n",
       "├─────────────────────────────────┼────────────────────────┼───────────────┤\n",
       "│ dense_2 (\u001b[38;5;33mDense\u001b[0m)                 │ (\u001b[38;5;45mNone\u001b[0m, \u001b[38;5;34m12\u001b[0m)             │           \u001b[38;5;34m444\u001b[0m │\n",
       "└─────────────────────────────────┴────────────────────────┴───────────────┘\n"
      ]
     },
     "metadata": {},
     "output_type": "display_data"
    },
    {
     "data": {
      "text/html": [
       "<pre style=\"white-space:pre;overflow-x:auto;line-height:normal;font-family:Menlo,'DejaVu Sans Mono',consolas,'Courier New',monospace\"><span style=\"font-weight: bold\"> Total params: </span><span style=\"color: #00af00; text-decoration-color: #00af00\">35,174</span> (137.40 KB)\n",
       "</pre>\n"
      ],
      "text/plain": [
       "\u001b[1m Total params: \u001b[0m\u001b[38;5;34m35,174\u001b[0m (137.40 KB)\n"
      ]
     },
     "metadata": {},
     "output_type": "display_data"
    },
    {
     "data": {
      "text/html": [
       "<pre style=\"white-space:pre;overflow-x:auto;line-height:normal;font-family:Menlo,'DejaVu Sans Mono',consolas,'Courier New',monospace\"><span style=\"font-weight: bold\"> Trainable params: </span><span style=\"color: #00af00; text-decoration-color: #00af00\">11,724</span> (45.80 KB)\n",
       "</pre>\n"
      ],
      "text/plain": [
       "\u001b[1m Trainable params: \u001b[0m\u001b[38;5;34m11,724\u001b[0m (45.80 KB)\n"
      ]
     },
     "metadata": {},
     "output_type": "display_data"
    },
    {
     "data": {
      "text/html": [
       "<pre style=\"white-space:pre;overflow-x:auto;line-height:normal;font-family:Menlo,'DejaVu Sans Mono',consolas,'Courier New',monospace\"><span style=\"font-weight: bold\"> Non-trainable params: </span><span style=\"color: #00af00; text-decoration-color: #00af00\">0</span> (0.00 B)\n",
       "</pre>\n"
      ],
      "text/plain": [
       "\u001b[1m Non-trainable params: \u001b[0m\u001b[38;5;34m0\u001b[0m (0.00 B)\n"
      ]
     },
     "metadata": {},
     "output_type": "display_data"
    },
    {
     "data": {
      "text/html": [
       "<pre style=\"white-space:pre;overflow-x:auto;line-height:normal;font-family:Menlo,'DejaVu Sans Mono',consolas,'Courier New',monospace\"><span style=\"font-weight: bold\"> Optimizer params: </span><span style=\"color: #00af00; text-decoration-color: #00af00\">23,450</span> (91.61 KB)\n",
       "</pre>\n"
      ],
      "text/plain": [
       "\u001b[1m Optimizer params: \u001b[0m\u001b[38;5;34m23,450\u001b[0m (91.61 KB)\n"
      ]
     },
     "metadata": {},
     "output_type": "display_data"
    }
   ],
   "source": [
    "model.summary()"
   ]
  },
  {
   "cell_type": "code",
   "execution_count": 14,
   "metadata": {},
   "outputs": [
    {
     "name": "stdout",
     "output_type": "stream",
     "text": [
      "\u001b[1m26/26\u001b[0m \u001b[32m━━━━━━━━━━━━━━━━━━━━\u001b[0m\u001b[37m\u001b[0m \u001b[1m0s\u001b[0m 6ms/step\n"
     ]
    },
    {
     "data": {
      "text/plain": [
       "0.026674613672022198"
      ]
     },
     "execution_count": 14,
     "metadata": {},
     "output_type": "execute_result"
    }
   ],
   "source": [
    "y_train_pred = model.predict(X_train_scaled)\n",
    "\n",
    "y_train_pred_trans = []\n",
    "for i in range(0,len(y_train_pred)):\n",
    "    y_train_pred_trans.append(y_train_pred[i])\n",
    "\n",
    "y_train_pred_tran = scaler_output.inverse_transform(y_train_pred_trans)\n",
    "\n",
    "train_mape = mean_absolute_percentage_error(y_train_pred_tran, y_train.reshape(y_train_pred_tran.shape))\n",
    "train_mape"
   ]
  },
  {
   "cell_type": "markdown",
   "metadata": {},
   "source": [
    "### test"
   ]
  },
  {
   "cell_type": "code",
   "execution_count": 15,
   "metadata": {},
   "outputs": [
    {
     "name": "stdout",
     "output_type": "stream",
     "text": [
      "\u001b[1m7/7\u001b[0m \u001b[32m━━━━━━━━━━━━━━━━━━━━\u001b[0m\u001b[37m\u001b[0m \u001b[1m0s\u001b[0m 3ms/step \n"
     ]
    }
   ],
   "source": [
    "y_pred = model.predict(X_test_scaled)\n",
    "y_test_pred = scaler_output.inverse_transform(y_pred)\n"
   ]
  },
  {
   "cell_type": "code",
   "execution_count": 16,
   "metadata": {},
   "outputs": [
    {
     "name": "stdout",
     "output_type": "stream",
     "text": [
      "Mean Absolute Error (MAE): 1.2502\n",
      "Mean Squared Error (MSE): 2.5612\n",
      "Root Mean Squared Error (RMSE): 1.6004\n",
      "R-squared (R²): -2.38\n",
      "Mean Absolute Percentage Error (MAPE): 0.0232\n"
     ]
    }
   ],
   "source": [
    "y_test = y_test.reshape(y_test_pred.shape)\n",
    "\n",
    "mae = mean_absolute_error(y_test_pred, y_test)\n",
    "print(f\"Mean Absolute Error (MAE): {np.round(float(mae), 4)}\")\n",
    "\n",
    "mse = mean_squared_error(y_test_pred, y_test)\n",
    "print(f\"Mean Squared Error (MSE): {np.round(float(mse), 4)}\")\n",
    "\n",
    "rmse = np.sqrt(mse)\n",
    "print(f\"Root Mean Squared Error (RMSE): {np.round(float(rmse), 4)}\")\n",
    "\n",
    "r2 = r2_score(y_test_pred, y_test)\n",
    "print(f\"R-squared (R²): {np.round(float(r2), 4)}\")\n",
    "\n",
    "mape = mean_absolute_percentage_error(y_test_pred, y_test)\n",
    "print(f\"Mean Absolute Percentage Error (MAPE): {np.round(float(mape), 4)}\")"
   ]
  },
  {
   "cell_type": "code",
   "execution_count": 17,
   "metadata": {},
   "outputs": [
    {
     "name": "stderr",
     "output_type": "stream",
     "text": [
      "WARNING:absl:You are saving your model as an HDF5 file via `model.save()` or `keras.saving.save_model(model)`. This file format is considered legacy. We recommend using instead the native Keras format, e.g. `model.save('my_model.keras')` or `keras.saving.save_model(model, 'my_model.keras')`. \n"
     ]
    }
   ],
   "source": [
    "initial_path = \"/mnt/d/LSTM_HyperModel\"\n",
    "\n",
    "#tf.saved_model.save(model, f'{initial_path}/BTC_LSTM')\n",
    "\n",
    "model.save(f'{initial_path}/LSTM.h5')\n",
    "\n",
    "Result = pd.DataFrame()\n",
    "\n",
    "MAPE = []\n",
    "\n",
    "workbook = xlsxwriter.Workbook(f\"{initial_path}/Results.xlsx\")\n",
    "workbook.close()\n",
    "\n",
    "for i in range(len(test_time)):\n",
    "    \n",
    "    Result['Report Time'] = test_time[i]\n",
    "    Result['Real_Value'] = y_test[i]\n",
    "    Result['Forecast'] = y_test_pred[i]\n",
    "    Result[\"MAPE\"] = abs( (Result['Real_Value'] - Result['Forecast']) / Result['Real_Value'] ) * 100\n",
    "    Result[\"Overall_MAPE\"] = np.average(Result[\"MAPE\"])\n",
    "    \n",
    "    MAPE.append(np.average(Result[\"MAPE\"]))\n",
    "\n",
    "    with pd.ExcelWriter(f\"{initial_path}/Results.xlsx\", mode=\"a\", engine=\"openpyxl\") as writer:\n",
    "        Result.to_excel(writer, sheet_name=f'{i+1}', index=False)\n"
   ]
  },
  {
   "cell_type": "code",
   "execution_count": 20,
   "metadata": {},
   "outputs": [
    {
     "name": "stderr",
     "output_type": "stream",
     "text": [
      "/home/akn/miniconda3/envs/tf216/lib/python3.11/site-packages/numpy/core/fromnumeric.py:3643: FutureWarning:\n",
      "\n",
      "The behavior of DataFrame.std with axis=None is deprecated, in a future version this will reduce over both axes and return a scalar. To retain the old behavior, pass axis=0 (or do not pass axis)\n",
      "\n",
      "/tmp/ipykernel_390124/2894061561.py:7: FutureWarning:\n",
      "\n",
      "Calling float on a single element Series is deprecated and will raise a TypeError in the future. Use float(ser.iloc[0]) instead\n",
      "\n"
     ]
    },
    {
     "data": {
      "application/vnd.plotly.v1+json": {
       "config": {
        "plotlyServerURL": "https://plot.ly"
       },
       "data": [
        {
         "hovertemplate": "variable=MAPE<br>Period=%{x}<br>MAPE=%{y}<extra></extra>",
         "legendgroup": "MAPE",
         "line": {
          "color": "#636efa",
          "dash": "solid"
         },
         "marker": {
          "symbol": "circle"
         },
         "mode": "lines+markers",
         "name": "MAPE",
         "orientation": "v",
         "showlegend": true,
         "type": "scatter",
         "x": [
          1,
          2,
          3,
          4,
          5,
          6,
          7,
          8,
          9,
          10,
          11,
          12,
          13,
          14,
          15,
          16,
          17,
          18,
          19,
          20,
          21,
          22,
          23,
          24,
          25,
          26,
          27,
          28,
          29,
          30,
          31,
          32,
          33,
          34,
          35,
          36,
          37,
          38,
          39,
          40,
          41,
          42,
          43,
          44,
          45,
          46,
          47,
          48,
          49,
          50,
          51,
          52,
          53,
          54,
          55,
          56,
          57,
          58,
          59,
          60,
          61,
          62,
          63,
          64,
          65,
          66,
          67,
          68,
          69,
          70,
          71,
          72,
          73,
          74,
          75,
          76,
          77,
          78,
          79,
          80,
          81,
          82,
          83,
          84,
          85,
          86,
          87,
          88,
          89,
          90,
          91,
          92,
          93,
          94,
          95,
          96,
          97,
          98,
          99,
          100,
          101,
          102,
          103,
          104,
          105,
          106,
          107,
          108,
          109,
          110,
          111,
          112,
          113,
          114,
          115,
          116,
          117,
          118,
          119,
          120,
          121,
          122,
          123,
          124,
          125,
          126,
          127,
          128,
          129,
          130,
          131,
          132,
          133,
          134,
          135,
          136,
          137,
          138,
          139,
          140,
          141,
          142,
          143,
          144,
          145,
          146,
          147,
          148,
          149,
          150,
          151,
          152,
          153,
          154,
          155,
          156,
          157,
          158,
          159,
          160,
          161,
          162,
          163,
          164,
          165,
          166,
          167,
          168,
          169,
          170,
          171,
          172,
          173,
          174,
          175,
          176,
          177,
          178,
          179,
          180,
          181,
          182,
          183,
          184,
          185,
          186,
          187,
          188,
          189,
          190,
          191,
          192,
          193,
          194,
          195,
          196,
          197,
          198,
          199,
          200
         ],
         "xaxis": "x",
         "y": [
          3.9689483642578125,
          6.962622165679932,
          4.621988773345947,
          4.76067590713501,
          2.5508158206939697,
          3.764007806777954,
          3.2608938217163086,
          3.5336496829986572,
          3.3733720779418945,
          2.7896344661712646,
          2.8556442260742188,
          2.7437875270843506,
          2.2819290161132812,
          2.225796937942505,
          2.5343942642211914,
          2.8924319744110107,
          3.6877803802490234,
          3.217886209487915,
          3.3712120056152344,
          3.00016713142395,
          3.0817863941192627,
          3.3141050338745117,
          3.217998743057251,
          4.131391525268555,
          3.6246557235717773,
          3.3074610233306885,
          2.781224012374878,
          2.369396209716797,
          2.094391107559204,
          1.9934941530227661,
          1.6538666486740112,
          1.4910807609558105,
          1.5150078535079956,
          1.4977957010269165,
          1.4522013664245605,
          1.321183204650879,
          1.2844256162643433,
          1.3370016813278198,
          1.346902847290039,
          1.1418715715408325,
          0.8530397415161133,
          1.0458316802978516,
          1.2581766843795776,
          1.4258642196655273,
          2.1912119388580322,
          2.6457901000976562,
          2.1597158908843994,
          1.6005178689956665,
          2.336977958679199,
          2.636108160018921,
          2.321629762649536,
          1.4759864807128906,
          1.6427416801452637,
          1.792647361755371,
          1.8759756088256836,
          1.5950945615768433,
          0.7155620455741882,
          0.8439776301383972,
          1.220934271812439,
          1.0139919519424438,
          1.2093204259872437,
          1.316059947013855,
          1.3591222763061523,
          1.631926417350769,
          2.7644851207733154,
          3.0339956283569336,
          3.2670986652374268,
          4.657124042510986,
          5.703929901123047,
          3.9055116176605225,
          3.545506477355957,
          3.9196760654449463,
          2.114514112472534,
          1.8509811162948608,
          2.2723565101623535,
          1.8440269231796265,
          1.7835005521774292,
          1.5628232955932617,
          1.3849350214004517,
          1.2238478660583496,
          1.3186053037643433,
          1.0787073373794556,
          3.214797019958496,
          1.315876841545105,
          1.3863524198532104,
          1.137507677078247,
          1.0385737419128418,
          1.9743086099624634,
          1.6330493688583374,
          1.5055413246154785,
          2.4999523162841797,
          2.204371452331543,
          1.9880567789077759,
          2.392075777053833,
          2.3462579250335693,
          3.0036773681640625,
          2.9126594066619873,
          2.510174512863159,
          1.9197587966918945,
          1.6377471685409546,
          2.091071367263794,
          2.173947811126709,
          2.803548812866211,
          3.2154695987701416,
          6.627983093261719,
          6.017773151397705,
          3.99483323097229,
          6.656803131103516,
          6.165998935699463,
          2.6411354541778564,
          4.416873931884766,
          3.364192008972168,
          3.5161705017089844,
          2.835932731628418,
          3.4844205379486084,
          2.8039395809173584,
          2.504369020462036,
          2.240247964859009,
          2.047652244567871,
          1.726240634918213,
          1.4379820823669434,
          1.2169064283370972,
          0.8939374089241028,
          0.5808436274528503,
          0.6282967925071716,
          1.9745432138442993,
          0.8991597294807434,
          0.8716408610343933,
          1.277111530303955,
          0.9181087613105774,
          1.625402808189392,
          0.9104651808738708,
          2.405498504638672,
          1.949947714805603,
          0.9725297093391418,
          1.799604892730713,
          1.5918636322021484,
          3.197354555130005,
          1.4868327379226685,
          1.5460233688354492,
          1.711591362953186,
          1.4930486679077148,
          1.808681607246399,
          2.1575591564178467,
          2.4408822059631348,
          1.8259376287460327,
          1.3751416206359863,
          0.9246177673339844,
          0.43014928698539734,
          0.661085307598114,
          0.6654953956604004,
          1.598239779472351,
          1.4001526832580566,
          1.3865242004394531,
          2.1354942321777344,
          3.2811386585235596,
          2.6119580268859863,
          5.6272735595703125,
          4.201187610626221,
          4.291059970855713,
          2.57769513130188,
          4.133195400238037,
          1.4788051843643188,
          1.5564298629760742,
          1.4861478805541992,
          1.3527231216430664,
          1.26249098777771,
          1.1781498193740845,
          0.9801663756370544,
          0.6656090617179871,
          0.4998166859149933,
          0.6184995770454407,
          0.5399815440177917,
          1.8571895360946655,
          0.7526716589927673,
          1.0032655000686646,
          1.507806420326233,
          1.2428966760635376,
          0.9278318285942078,
          1.86690092086792,
          1.330765724182129,
          2.0421183109283447,
          1.4267150163650513,
          4.139633655548096,
          2.701003074645996,
          2.533069610595703,
          1.6625862121582031,
          1.5221682786941528,
          1.678321361541748,
          1.9576090574264526,
          1.5663620233535767,
          2.299943208694458,
          2.0912885665893555,
          2.376106023788452,
          2.174575090408325,
          2.2675063610076904,
          2.353616952896118,
          3.483006715774536,
          3.996403455734253,
          3.580307960510254
         ],
         "yaxis": "y"
        }
       ],
       "layout": {
        "legend": {
         "title": {
          "text": "variable"
         },
         "tracegroupgap": 0
        },
        "template": {
         "data": {
          "bar": [
           {
            "error_x": {
             "color": "#2a3f5f"
            },
            "error_y": {
             "color": "#2a3f5f"
            },
            "marker": {
             "line": {
              "color": "#E5ECF6",
              "width": 0.5
             },
             "pattern": {
              "fillmode": "overlay",
              "size": 10,
              "solidity": 0.2
             }
            },
            "type": "bar"
           }
          ],
          "barpolar": [
           {
            "marker": {
             "line": {
              "color": "#E5ECF6",
              "width": 0.5
             },
             "pattern": {
              "fillmode": "overlay",
              "size": 10,
              "solidity": 0.2
             }
            },
            "type": "barpolar"
           }
          ],
          "carpet": [
           {
            "aaxis": {
             "endlinecolor": "#2a3f5f",
             "gridcolor": "white",
             "linecolor": "white",
             "minorgridcolor": "white",
             "startlinecolor": "#2a3f5f"
            },
            "baxis": {
             "endlinecolor": "#2a3f5f",
             "gridcolor": "white",
             "linecolor": "white",
             "minorgridcolor": "white",
             "startlinecolor": "#2a3f5f"
            },
            "type": "carpet"
           }
          ],
          "choropleth": [
           {
            "colorbar": {
             "outlinewidth": 0,
             "ticks": ""
            },
            "type": "choropleth"
           }
          ],
          "contour": [
           {
            "colorbar": {
             "outlinewidth": 0,
             "ticks": ""
            },
            "colorscale": [
             [
              0,
              "#0d0887"
             ],
             [
              0.1111111111111111,
              "#46039f"
             ],
             [
              0.2222222222222222,
              "#7201a8"
             ],
             [
              0.3333333333333333,
              "#9c179e"
             ],
             [
              0.4444444444444444,
              "#bd3786"
             ],
             [
              0.5555555555555556,
              "#d8576b"
             ],
             [
              0.6666666666666666,
              "#ed7953"
             ],
             [
              0.7777777777777778,
              "#fb9f3a"
             ],
             [
              0.8888888888888888,
              "#fdca26"
             ],
             [
              1,
              "#f0f921"
             ]
            ],
            "type": "contour"
           }
          ],
          "contourcarpet": [
           {
            "colorbar": {
             "outlinewidth": 0,
             "ticks": ""
            },
            "type": "contourcarpet"
           }
          ],
          "heatmap": [
           {
            "colorbar": {
             "outlinewidth": 0,
             "ticks": ""
            },
            "colorscale": [
             [
              0,
              "#0d0887"
             ],
             [
              0.1111111111111111,
              "#46039f"
             ],
             [
              0.2222222222222222,
              "#7201a8"
             ],
             [
              0.3333333333333333,
              "#9c179e"
             ],
             [
              0.4444444444444444,
              "#bd3786"
             ],
             [
              0.5555555555555556,
              "#d8576b"
             ],
             [
              0.6666666666666666,
              "#ed7953"
             ],
             [
              0.7777777777777778,
              "#fb9f3a"
             ],
             [
              0.8888888888888888,
              "#fdca26"
             ],
             [
              1,
              "#f0f921"
             ]
            ],
            "type": "heatmap"
           }
          ],
          "heatmapgl": [
           {
            "colorbar": {
             "outlinewidth": 0,
             "ticks": ""
            },
            "colorscale": [
             [
              0,
              "#0d0887"
             ],
             [
              0.1111111111111111,
              "#46039f"
             ],
             [
              0.2222222222222222,
              "#7201a8"
             ],
             [
              0.3333333333333333,
              "#9c179e"
             ],
             [
              0.4444444444444444,
              "#bd3786"
             ],
             [
              0.5555555555555556,
              "#d8576b"
             ],
             [
              0.6666666666666666,
              "#ed7953"
             ],
             [
              0.7777777777777778,
              "#fb9f3a"
             ],
             [
              0.8888888888888888,
              "#fdca26"
             ],
             [
              1,
              "#f0f921"
             ]
            ],
            "type": "heatmapgl"
           }
          ],
          "histogram": [
           {
            "marker": {
             "pattern": {
              "fillmode": "overlay",
              "size": 10,
              "solidity": 0.2
             }
            },
            "type": "histogram"
           }
          ],
          "histogram2d": [
           {
            "colorbar": {
             "outlinewidth": 0,
             "ticks": ""
            },
            "colorscale": [
             [
              0,
              "#0d0887"
             ],
             [
              0.1111111111111111,
              "#46039f"
             ],
             [
              0.2222222222222222,
              "#7201a8"
             ],
             [
              0.3333333333333333,
              "#9c179e"
             ],
             [
              0.4444444444444444,
              "#bd3786"
             ],
             [
              0.5555555555555556,
              "#d8576b"
             ],
             [
              0.6666666666666666,
              "#ed7953"
             ],
             [
              0.7777777777777778,
              "#fb9f3a"
             ],
             [
              0.8888888888888888,
              "#fdca26"
             ],
             [
              1,
              "#f0f921"
             ]
            ],
            "type": "histogram2d"
           }
          ],
          "histogram2dcontour": [
           {
            "colorbar": {
             "outlinewidth": 0,
             "ticks": ""
            },
            "colorscale": [
             [
              0,
              "#0d0887"
             ],
             [
              0.1111111111111111,
              "#46039f"
             ],
             [
              0.2222222222222222,
              "#7201a8"
             ],
             [
              0.3333333333333333,
              "#9c179e"
             ],
             [
              0.4444444444444444,
              "#bd3786"
             ],
             [
              0.5555555555555556,
              "#d8576b"
             ],
             [
              0.6666666666666666,
              "#ed7953"
             ],
             [
              0.7777777777777778,
              "#fb9f3a"
             ],
             [
              0.8888888888888888,
              "#fdca26"
             ],
             [
              1,
              "#f0f921"
             ]
            ],
            "type": "histogram2dcontour"
           }
          ],
          "mesh3d": [
           {
            "colorbar": {
             "outlinewidth": 0,
             "ticks": ""
            },
            "type": "mesh3d"
           }
          ],
          "parcoords": [
           {
            "line": {
             "colorbar": {
              "outlinewidth": 0,
              "ticks": ""
             }
            },
            "type": "parcoords"
           }
          ],
          "pie": [
           {
            "automargin": true,
            "type": "pie"
           }
          ],
          "scatter": [
           {
            "fillpattern": {
             "fillmode": "overlay",
             "size": 10,
             "solidity": 0.2
            },
            "type": "scatter"
           }
          ],
          "scatter3d": [
           {
            "line": {
             "colorbar": {
              "outlinewidth": 0,
              "ticks": ""
             }
            },
            "marker": {
             "colorbar": {
              "outlinewidth": 0,
              "ticks": ""
             }
            },
            "type": "scatter3d"
           }
          ],
          "scattercarpet": [
           {
            "marker": {
             "colorbar": {
              "outlinewidth": 0,
              "ticks": ""
             }
            },
            "type": "scattercarpet"
           }
          ],
          "scattergeo": [
           {
            "marker": {
             "colorbar": {
              "outlinewidth": 0,
              "ticks": ""
             }
            },
            "type": "scattergeo"
           }
          ],
          "scattergl": [
           {
            "marker": {
             "colorbar": {
              "outlinewidth": 0,
              "ticks": ""
             }
            },
            "type": "scattergl"
           }
          ],
          "scattermapbox": [
           {
            "marker": {
             "colorbar": {
              "outlinewidth": 0,
              "ticks": ""
             }
            },
            "type": "scattermapbox"
           }
          ],
          "scatterpolar": [
           {
            "marker": {
             "colorbar": {
              "outlinewidth": 0,
              "ticks": ""
             }
            },
            "type": "scatterpolar"
           }
          ],
          "scatterpolargl": [
           {
            "marker": {
             "colorbar": {
              "outlinewidth": 0,
              "ticks": ""
             }
            },
            "type": "scatterpolargl"
           }
          ],
          "scatterternary": [
           {
            "marker": {
             "colorbar": {
              "outlinewidth": 0,
              "ticks": ""
             }
            },
            "type": "scatterternary"
           }
          ],
          "surface": [
           {
            "colorbar": {
             "outlinewidth": 0,
             "ticks": ""
            },
            "colorscale": [
             [
              0,
              "#0d0887"
             ],
             [
              0.1111111111111111,
              "#46039f"
             ],
             [
              0.2222222222222222,
              "#7201a8"
             ],
             [
              0.3333333333333333,
              "#9c179e"
             ],
             [
              0.4444444444444444,
              "#bd3786"
             ],
             [
              0.5555555555555556,
              "#d8576b"
             ],
             [
              0.6666666666666666,
              "#ed7953"
             ],
             [
              0.7777777777777778,
              "#fb9f3a"
             ],
             [
              0.8888888888888888,
              "#fdca26"
             ],
             [
              1,
              "#f0f921"
             ]
            ],
            "type": "surface"
           }
          ],
          "table": [
           {
            "cells": {
             "fill": {
              "color": "#EBF0F8"
             },
             "line": {
              "color": "white"
             }
            },
            "header": {
             "fill": {
              "color": "#C8D4E3"
             },
             "line": {
              "color": "white"
             }
            },
            "type": "table"
           }
          ]
         },
         "layout": {
          "annotationdefaults": {
           "arrowcolor": "#2a3f5f",
           "arrowhead": 0,
           "arrowwidth": 1
          },
          "autotypenumbers": "strict",
          "coloraxis": {
           "colorbar": {
            "outlinewidth": 0,
            "ticks": ""
           }
          },
          "colorscale": {
           "diverging": [
            [
             0,
             "#8e0152"
            ],
            [
             0.1,
             "#c51b7d"
            ],
            [
             0.2,
             "#de77ae"
            ],
            [
             0.3,
             "#f1b6da"
            ],
            [
             0.4,
             "#fde0ef"
            ],
            [
             0.5,
             "#f7f7f7"
            ],
            [
             0.6,
             "#e6f5d0"
            ],
            [
             0.7,
             "#b8e186"
            ],
            [
             0.8,
             "#7fbc41"
            ],
            [
             0.9,
             "#4d9221"
            ],
            [
             1,
             "#276419"
            ]
           ],
           "sequential": [
            [
             0,
             "#0d0887"
            ],
            [
             0.1111111111111111,
             "#46039f"
            ],
            [
             0.2222222222222222,
             "#7201a8"
            ],
            [
             0.3333333333333333,
             "#9c179e"
            ],
            [
             0.4444444444444444,
             "#bd3786"
            ],
            [
             0.5555555555555556,
             "#d8576b"
            ],
            [
             0.6666666666666666,
             "#ed7953"
            ],
            [
             0.7777777777777778,
             "#fb9f3a"
            ],
            [
             0.8888888888888888,
             "#fdca26"
            ],
            [
             1,
             "#f0f921"
            ]
           ],
           "sequentialminus": [
            [
             0,
             "#0d0887"
            ],
            [
             0.1111111111111111,
             "#46039f"
            ],
            [
             0.2222222222222222,
             "#7201a8"
            ],
            [
             0.3333333333333333,
             "#9c179e"
            ],
            [
             0.4444444444444444,
             "#bd3786"
            ],
            [
             0.5555555555555556,
             "#d8576b"
            ],
            [
             0.6666666666666666,
             "#ed7953"
            ],
            [
             0.7777777777777778,
             "#fb9f3a"
            ],
            [
             0.8888888888888888,
             "#fdca26"
            ],
            [
             1,
             "#f0f921"
            ]
           ]
          },
          "colorway": [
           "#636efa",
           "#EF553B",
           "#00cc96",
           "#ab63fa",
           "#FFA15A",
           "#19d3f3",
           "#FF6692",
           "#B6E880",
           "#FF97FF",
           "#FECB52"
          ],
          "font": {
           "color": "#2a3f5f"
          },
          "geo": {
           "bgcolor": "white",
           "lakecolor": "white",
           "landcolor": "#E5ECF6",
           "showlakes": true,
           "showland": true,
           "subunitcolor": "white"
          },
          "hoverlabel": {
           "align": "left"
          },
          "hovermode": "closest",
          "mapbox": {
           "style": "light"
          },
          "paper_bgcolor": "white",
          "plot_bgcolor": "#E5ECF6",
          "polar": {
           "angularaxis": {
            "gridcolor": "white",
            "linecolor": "white",
            "ticks": ""
           },
           "bgcolor": "#E5ECF6",
           "radialaxis": {
            "gridcolor": "white",
            "linecolor": "white",
            "ticks": ""
           }
          },
          "scene": {
           "xaxis": {
            "backgroundcolor": "#E5ECF6",
            "gridcolor": "white",
            "gridwidth": 2,
            "linecolor": "white",
            "showbackground": true,
            "ticks": "",
            "zerolinecolor": "white"
           },
           "yaxis": {
            "backgroundcolor": "#E5ECF6",
            "gridcolor": "white",
            "gridwidth": 2,
            "linecolor": "white",
            "showbackground": true,
            "ticks": "",
            "zerolinecolor": "white"
           },
           "zaxis": {
            "backgroundcolor": "#E5ECF6",
            "gridcolor": "white",
            "gridwidth": 2,
            "linecolor": "white",
            "showbackground": true,
            "ticks": "",
            "zerolinecolor": "white"
           }
          },
          "shapedefaults": {
           "line": {
            "color": "#2a3f5f"
           }
          },
          "ternary": {
           "aaxis": {
            "gridcolor": "white",
            "linecolor": "white",
            "ticks": ""
           },
           "baxis": {
            "gridcolor": "white",
            "linecolor": "white",
            "ticks": ""
           },
           "bgcolor": "#E5ECF6",
           "caxis": {
            "gridcolor": "white",
            "linecolor": "white",
            "ticks": ""
           }
          },
          "title": {
           "x": 0.05
          },
          "xaxis": {
           "automargin": true,
           "gridcolor": "white",
           "linecolor": "white",
           "ticks": "",
           "title": {
            "standoff": 15
           },
           "zerolinecolor": "white",
           "zerolinewidth": 2
          },
          "yaxis": {
           "automargin": true,
           "gridcolor": "white",
           "linecolor": "white",
           "ticks": "",
           "title": {
            "standoff": 15
           },
           "zerolinecolor": "white",
           "zerolinewidth": 2
          }
         }
        },
        "title": {
         "text": "Overall Avg. MAPE=2.25 with std deviation=1.24"
        },
        "xaxis": {
         "anchor": "y",
         "domain": [
          0,
          1
         ],
         "title": {
          "text": "Period"
         }
        },
        "yaxis": {
         "anchor": "x",
         "domain": [
          0,
          1
         ],
         "title": {
          "text": "MAPE"
         }
        }
       }
      },
      "text/html": [
       "<div>                            <div id=\"13cff601-3da6-4a6e-b3d3-bade940fa19b\" class=\"plotly-graph-div\" style=\"height:525px; width:100%;\"></div>            <script type=\"text/javascript\">                require([\"plotly\"], function(Plotly) {                    window.PLOTLYENV=window.PLOTLYENV || {};                                    if (document.getElementById(\"13cff601-3da6-4a6e-b3d3-bade940fa19b\")) {                    Plotly.newPlot(                        \"13cff601-3da6-4a6e-b3d3-bade940fa19b\",                        [{\"hovertemplate\":\"variable=MAPE\\u003cbr\\u003ePeriod=%{x}\\u003cbr\\u003eMAPE=%{y}\\u003cextra\\u003e\\u003c\\u002fextra\\u003e\",\"legendgroup\":\"MAPE\",\"line\":{\"color\":\"#636efa\",\"dash\":\"solid\"},\"marker\":{\"symbol\":\"circle\"},\"mode\":\"lines+markers\",\"name\":\"MAPE\",\"orientation\":\"v\",\"showlegend\":true,\"x\":[1,2,3,4,5,6,7,8,9,10,11,12,13,14,15,16,17,18,19,20,21,22,23,24,25,26,27,28,29,30,31,32,33,34,35,36,37,38,39,40,41,42,43,44,45,46,47,48,49,50,51,52,53,54,55,56,57,58,59,60,61,62,63,64,65,66,67,68,69,70,71,72,73,74,75,76,77,78,79,80,81,82,83,84,85,86,87,88,89,90,91,92,93,94,95,96,97,98,99,100,101,102,103,104,105,106,107,108,109,110,111,112,113,114,115,116,117,118,119,120,121,122,123,124,125,126,127,128,129,130,131,132,133,134,135,136,137,138,139,140,141,142,143,144,145,146,147,148,149,150,151,152,153,154,155,156,157,158,159,160,161,162,163,164,165,166,167,168,169,170,171,172,173,174,175,176,177,178,179,180,181,182,183,184,185,186,187,188,189,190,191,192,193,194,195,196,197,198,199,200],\"xaxis\":\"x\",\"y\":[3.9689483642578125,6.962622165679932,4.621988773345947,4.76067590713501,2.5508158206939697,3.764007806777954,3.2608938217163086,3.5336496829986572,3.3733720779418945,2.7896344661712646,2.8556442260742188,2.7437875270843506,2.2819290161132812,2.225796937942505,2.5343942642211914,2.8924319744110107,3.6877803802490234,3.217886209487915,3.3712120056152344,3.00016713142395,3.0817863941192627,3.3141050338745117,3.217998743057251,4.131391525268555,3.6246557235717773,3.3074610233306885,2.781224012374878,2.369396209716797,2.094391107559204,1.9934941530227661,1.6538666486740112,1.4910807609558105,1.5150078535079956,1.4977957010269165,1.4522013664245605,1.321183204650879,1.2844256162643433,1.3370016813278198,1.346902847290039,1.1418715715408325,0.8530397415161133,1.0458316802978516,1.2581766843795776,1.4258642196655273,2.1912119388580322,2.6457901000976562,2.1597158908843994,1.6005178689956665,2.336977958679199,2.636108160018921,2.321629762649536,1.4759864807128906,1.6427416801452637,1.792647361755371,1.8759756088256836,1.5950945615768433,0.7155620455741882,0.8439776301383972,1.220934271812439,1.0139919519424438,1.2093204259872437,1.316059947013855,1.3591222763061523,1.631926417350769,2.7644851207733154,3.0339956283569336,3.2670986652374268,4.657124042510986,5.703929901123047,3.9055116176605225,3.545506477355957,3.9196760654449463,2.114514112472534,1.8509811162948608,2.2723565101623535,1.8440269231796265,1.7835005521774292,1.5628232955932617,1.3849350214004517,1.2238478660583496,1.3186053037643433,1.0787073373794556,3.214797019958496,1.315876841545105,1.3863524198532104,1.137507677078247,1.0385737419128418,1.9743086099624634,1.6330493688583374,1.5055413246154785,2.4999523162841797,2.204371452331543,1.9880567789077759,2.392075777053833,2.3462579250335693,3.0036773681640625,2.9126594066619873,2.510174512863159,1.9197587966918945,1.6377471685409546,2.091071367263794,2.173947811126709,2.803548812866211,3.2154695987701416,6.627983093261719,6.017773151397705,3.99483323097229,6.656803131103516,6.165998935699463,2.6411354541778564,4.416873931884766,3.364192008972168,3.5161705017089844,2.835932731628418,3.4844205379486084,2.8039395809173584,2.504369020462036,2.240247964859009,2.047652244567871,1.726240634918213,1.4379820823669434,1.2169064283370972,0.8939374089241028,0.5808436274528503,0.6282967925071716,1.9745432138442993,0.8991597294807434,0.8716408610343933,1.277111530303955,0.9181087613105774,1.625402808189392,0.9104651808738708,2.405498504638672,1.949947714805603,0.9725297093391418,1.799604892730713,1.5918636322021484,3.197354555130005,1.4868327379226685,1.5460233688354492,1.711591362953186,1.4930486679077148,1.808681607246399,2.1575591564178467,2.4408822059631348,1.8259376287460327,1.3751416206359863,0.9246177673339844,0.43014928698539734,0.661085307598114,0.6654953956604004,1.598239779472351,1.4001526832580566,1.3865242004394531,2.1354942321777344,3.2811386585235596,2.6119580268859863,5.6272735595703125,4.201187610626221,4.291059970855713,2.57769513130188,4.133195400238037,1.4788051843643188,1.5564298629760742,1.4861478805541992,1.3527231216430664,1.26249098777771,1.1781498193740845,0.9801663756370544,0.6656090617179871,0.4998166859149933,0.6184995770454407,0.5399815440177917,1.8571895360946655,0.7526716589927673,1.0032655000686646,1.507806420326233,1.2428966760635376,0.9278318285942078,1.86690092086792,1.330765724182129,2.0421183109283447,1.4267150163650513,4.139633655548096,2.701003074645996,2.533069610595703,1.6625862121582031,1.5221682786941528,1.678321361541748,1.9576090574264526,1.5663620233535767,2.299943208694458,2.0912885665893555,2.376106023788452,2.174575090408325,2.2675063610076904,2.353616952896118,3.483006715774536,3.996403455734253,3.580307960510254],\"yaxis\":\"y\",\"type\":\"scatter\"}],                        {\"template\":{\"data\":{\"histogram2dcontour\":[{\"type\":\"histogram2dcontour\",\"colorbar\":{\"outlinewidth\":0,\"ticks\":\"\"},\"colorscale\":[[0.0,\"#0d0887\"],[0.1111111111111111,\"#46039f\"],[0.2222222222222222,\"#7201a8\"],[0.3333333333333333,\"#9c179e\"],[0.4444444444444444,\"#bd3786\"],[0.5555555555555556,\"#d8576b\"],[0.6666666666666666,\"#ed7953\"],[0.7777777777777778,\"#fb9f3a\"],[0.8888888888888888,\"#fdca26\"],[1.0,\"#f0f921\"]]}],\"choropleth\":[{\"type\":\"choropleth\",\"colorbar\":{\"outlinewidth\":0,\"ticks\":\"\"}}],\"histogram2d\":[{\"type\":\"histogram2d\",\"colorbar\":{\"outlinewidth\":0,\"ticks\":\"\"},\"colorscale\":[[0.0,\"#0d0887\"],[0.1111111111111111,\"#46039f\"],[0.2222222222222222,\"#7201a8\"],[0.3333333333333333,\"#9c179e\"],[0.4444444444444444,\"#bd3786\"],[0.5555555555555556,\"#d8576b\"],[0.6666666666666666,\"#ed7953\"],[0.7777777777777778,\"#fb9f3a\"],[0.8888888888888888,\"#fdca26\"],[1.0,\"#f0f921\"]]}],\"heatmap\":[{\"type\":\"heatmap\",\"colorbar\":{\"outlinewidth\":0,\"ticks\":\"\"},\"colorscale\":[[0.0,\"#0d0887\"],[0.1111111111111111,\"#46039f\"],[0.2222222222222222,\"#7201a8\"],[0.3333333333333333,\"#9c179e\"],[0.4444444444444444,\"#bd3786\"],[0.5555555555555556,\"#d8576b\"],[0.6666666666666666,\"#ed7953\"],[0.7777777777777778,\"#fb9f3a\"],[0.8888888888888888,\"#fdca26\"],[1.0,\"#f0f921\"]]}],\"heatmapgl\":[{\"type\":\"heatmapgl\",\"colorbar\":{\"outlinewidth\":0,\"ticks\":\"\"},\"colorscale\":[[0.0,\"#0d0887\"],[0.1111111111111111,\"#46039f\"],[0.2222222222222222,\"#7201a8\"],[0.3333333333333333,\"#9c179e\"],[0.4444444444444444,\"#bd3786\"],[0.5555555555555556,\"#d8576b\"],[0.6666666666666666,\"#ed7953\"],[0.7777777777777778,\"#fb9f3a\"],[0.8888888888888888,\"#fdca26\"],[1.0,\"#f0f921\"]]}],\"contourcarpet\":[{\"type\":\"contourcarpet\",\"colorbar\":{\"outlinewidth\":0,\"ticks\":\"\"}}],\"contour\":[{\"type\":\"contour\",\"colorbar\":{\"outlinewidth\":0,\"ticks\":\"\"},\"colorscale\":[[0.0,\"#0d0887\"],[0.1111111111111111,\"#46039f\"],[0.2222222222222222,\"#7201a8\"],[0.3333333333333333,\"#9c179e\"],[0.4444444444444444,\"#bd3786\"],[0.5555555555555556,\"#d8576b\"],[0.6666666666666666,\"#ed7953\"],[0.7777777777777778,\"#fb9f3a\"],[0.8888888888888888,\"#fdca26\"],[1.0,\"#f0f921\"]]}],\"surface\":[{\"type\":\"surface\",\"colorbar\":{\"outlinewidth\":0,\"ticks\":\"\"},\"colorscale\":[[0.0,\"#0d0887\"],[0.1111111111111111,\"#46039f\"],[0.2222222222222222,\"#7201a8\"],[0.3333333333333333,\"#9c179e\"],[0.4444444444444444,\"#bd3786\"],[0.5555555555555556,\"#d8576b\"],[0.6666666666666666,\"#ed7953\"],[0.7777777777777778,\"#fb9f3a\"],[0.8888888888888888,\"#fdca26\"],[1.0,\"#f0f921\"]]}],\"mesh3d\":[{\"type\":\"mesh3d\",\"colorbar\":{\"outlinewidth\":0,\"ticks\":\"\"}}],\"scatter\":[{\"fillpattern\":{\"fillmode\":\"overlay\",\"size\":10,\"solidity\":0.2},\"type\":\"scatter\"}],\"parcoords\":[{\"type\":\"parcoords\",\"line\":{\"colorbar\":{\"outlinewidth\":0,\"ticks\":\"\"}}}],\"scatterpolargl\":[{\"type\":\"scatterpolargl\",\"marker\":{\"colorbar\":{\"outlinewidth\":0,\"ticks\":\"\"}}}],\"bar\":[{\"error_x\":{\"color\":\"#2a3f5f\"},\"error_y\":{\"color\":\"#2a3f5f\"},\"marker\":{\"line\":{\"color\":\"#E5ECF6\",\"width\":0.5},\"pattern\":{\"fillmode\":\"overlay\",\"size\":10,\"solidity\":0.2}},\"type\":\"bar\"}],\"scattergeo\":[{\"type\":\"scattergeo\",\"marker\":{\"colorbar\":{\"outlinewidth\":0,\"ticks\":\"\"}}}],\"scatterpolar\":[{\"type\":\"scatterpolar\",\"marker\":{\"colorbar\":{\"outlinewidth\":0,\"ticks\":\"\"}}}],\"histogram\":[{\"marker\":{\"pattern\":{\"fillmode\":\"overlay\",\"size\":10,\"solidity\":0.2}},\"type\":\"histogram\"}],\"scattergl\":[{\"type\":\"scattergl\",\"marker\":{\"colorbar\":{\"outlinewidth\":0,\"ticks\":\"\"}}}],\"scatter3d\":[{\"type\":\"scatter3d\",\"line\":{\"colorbar\":{\"outlinewidth\":0,\"ticks\":\"\"}},\"marker\":{\"colorbar\":{\"outlinewidth\":0,\"ticks\":\"\"}}}],\"scattermapbox\":[{\"type\":\"scattermapbox\",\"marker\":{\"colorbar\":{\"outlinewidth\":0,\"ticks\":\"\"}}}],\"scatterternary\":[{\"type\":\"scatterternary\",\"marker\":{\"colorbar\":{\"outlinewidth\":0,\"ticks\":\"\"}}}],\"scattercarpet\":[{\"type\":\"scattercarpet\",\"marker\":{\"colorbar\":{\"outlinewidth\":0,\"ticks\":\"\"}}}],\"carpet\":[{\"aaxis\":{\"endlinecolor\":\"#2a3f5f\",\"gridcolor\":\"white\",\"linecolor\":\"white\",\"minorgridcolor\":\"white\",\"startlinecolor\":\"#2a3f5f\"},\"baxis\":{\"endlinecolor\":\"#2a3f5f\",\"gridcolor\":\"white\",\"linecolor\":\"white\",\"minorgridcolor\":\"white\",\"startlinecolor\":\"#2a3f5f\"},\"type\":\"carpet\"}],\"table\":[{\"cells\":{\"fill\":{\"color\":\"#EBF0F8\"},\"line\":{\"color\":\"white\"}},\"header\":{\"fill\":{\"color\":\"#C8D4E3\"},\"line\":{\"color\":\"white\"}},\"type\":\"table\"}],\"barpolar\":[{\"marker\":{\"line\":{\"color\":\"#E5ECF6\",\"width\":0.5},\"pattern\":{\"fillmode\":\"overlay\",\"size\":10,\"solidity\":0.2}},\"type\":\"barpolar\"}],\"pie\":[{\"automargin\":true,\"type\":\"pie\"}]},\"layout\":{\"autotypenumbers\":\"strict\",\"colorway\":[\"#636efa\",\"#EF553B\",\"#00cc96\",\"#ab63fa\",\"#FFA15A\",\"#19d3f3\",\"#FF6692\",\"#B6E880\",\"#FF97FF\",\"#FECB52\"],\"font\":{\"color\":\"#2a3f5f\"},\"hovermode\":\"closest\",\"hoverlabel\":{\"align\":\"left\"},\"paper_bgcolor\":\"white\",\"plot_bgcolor\":\"#E5ECF6\",\"polar\":{\"bgcolor\":\"#E5ECF6\",\"angularaxis\":{\"gridcolor\":\"white\",\"linecolor\":\"white\",\"ticks\":\"\"},\"radialaxis\":{\"gridcolor\":\"white\",\"linecolor\":\"white\",\"ticks\":\"\"}},\"ternary\":{\"bgcolor\":\"#E5ECF6\",\"aaxis\":{\"gridcolor\":\"white\",\"linecolor\":\"white\",\"ticks\":\"\"},\"baxis\":{\"gridcolor\":\"white\",\"linecolor\":\"white\",\"ticks\":\"\"},\"caxis\":{\"gridcolor\":\"white\",\"linecolor\":\"white\",\"ticks\":\"\"}},\"coloraxis\":{\"colorbar\":{\"outlinewidth\":0,\"ticks\":\"\"}},\"colorscale\":{\"sequential\":[[0.0,\"#0d0887\"],[0.1111111111111111,\"#46039f\"],[0.2222222222222222,\"#7201a8\"],[0.3333333333333333,\"#9c179e\"],[0.4444444444444444,\"#bd3786\"],[0.5555555555555556,\"#d8576b\"],[0.6666666666666666,\"#ed7953\"],[0.7777777777777778,\"#fb9f3a\"],[0.8888888888888888,\"#fdca26\"],[1.0,\"#f0f921\"]],\"sequentialminus\":[[0.0,\"#0d0887\"],[0.1111111111111111,\"#46039f\"],[0.2222222222222222,\"#7201a8\"],[0.3333333333333333,\"#9c179e\"],[0.4444444444444444,\"#bd3786\"],[0.5555555555555556,\"#d8576b\"],[0.6666666666666666,\"#ed7953\"],[0.7777777777777778,\"#fb9f3a\"],[0.8888888888888888,\"#fdca26\"],[1.0,\"#f0f921\"]],\"diverging\":[[0,\"#8e0152\"],[0.1,\"#c51b7d\"],[0.2,\"#de77ae\"],[0.3,\"#f1b6da\"],[0.4,\"#fde0ef\"],[0.5,\"#f7f7f7\"],[0.6,\"#e6f5d0\"],[0.7,\"#b8e186\"],[0.8,\"#7fbc41\"],[0.9,\"#4d9221\"],[1,\"#276419\"]]},\"xaxis\":{\"gridcolor\":\"white\",\"linecolor\":\"white\",\"ticks\":\"\",\"title\":{\"standoff\":15},\"zerolinecolor\":\"white\",\"automargin\":true,\"zerolinewidth\":2},\"yaxis\":{\"gridcolor\":\"white\",\"linecolor\":\"white\",\"ticks\":\"\",\"title\":{\"standoff\":15},\"zerolinecolor\":\"white\",\"automargin\":true,\"zerolinewidth\":2},\"scene\":{\"xaxis\":{\"backgroundcolor\":\"#E5ECF6\",\"gridcolor\":\"white\",\"linecolor\":\"white\",\"showbackground\":true,\"ticks\":\"\",\"zerolinecolor\":\"white\",\"gridwidth\":2},\"yaxis\":{\"backgroundcolor\":\"#E5ECF6\",\"gridcolor\":\"white\",\"linecolor\":\"white\",\"showbackground\":true,\"ticks\":\"\",\"zerolinecolor\":\"white\",\"gridwidth\":2},\"zaxis\":{\"backgroundcolor\":\"#E5ECF6\",\"gridcolor\":\"white\",\"linecolor\":\"white\",\"showbackground\":true,\"ticks\":\"\",\"zerolinecolor\":\"white\",\"gridwidth\":2}},\"shapedefaults\":{\"line\":{\"color\":\"#2a3f5f\"}},\"annotationdefaults\":{\"arrowcolor\":\"#2a3f5f\",\"arrowhead\":0,\"arrowwidth\":1},\"geo\":{\"bgcolor\":\"white\",\"landcolor\":\"#E5ECF6\",\"subunitcolor\":\"white\",\"showland\":true,\"showlakes\":true,\"lakecolor\":\"white\"},\"title\":{\"x\":0.05},\"mapbox\":{\"style\":\"light\"}}},\"xaxis\":{\"anchor\":\"y\",\"domain\":[0.0,1.0],\"title\":{\"text\":\"Period\"}},\"yaxis\":{\"anchor\":\"x\",\"domain\":[0.0,1.0],\"title\":{\"text\":\"MAPE\"}},\"legend\":{\"title\":{\"text\":\"variable\"},\"tracegroupgap\":0},\"title\":{\"text\":\"Overall Avg. MAPE=2.25 with std deviation=1.24\"}},                        {\"responsive\": true}                    ).then(function(){\n",
       "                            \n",
       "var gd = document.getElementById('13cff601-3da6-4a6e-b3d3-bade940fa19b');\n",
       "var x = new MutationObserver(function (mutations, observer) {{\n",
       "        var display = window.getComputedStyle(gd).display;\n",
       "        if (!display || display === 'none') {{\n",
       "            console.log([gd, 'removed!']);\n",
       "            Plotly.purge(gd);\n",
       "            observer.disconnect();\n",
       "        }}\n",
       "}});\n",
       "\n",
       "// Listen for the removal of the full notebook cells\n",
       "var notebookContainer = gd.closest('#notebook-container');\n",
       "if (notebookContainer) {{\n",
       "    x.observe(notebookContainer, {childList: true});\n",
       "}}\n",
       "\n",
       "// Listen for the clearing of the current output cell\n",
       "var outputEl = gd.closest('.output');\n",
       "if (outputEl) {{\n",
       "    x.observe(outputEl, {childList: true});\n",
       "}}\n",
       "\n",
       "                        })                };                });            </script>        </div>"
      ]
     },
     "metadata": {},
     "output_type": "display_data"
    },
    {
     "data": {
      "text/plain": [
       "(2.25, 1.24)"
      ]
     },
     "execution_count": 20,
     "metadata": {},
     "output_type": "execute_result"
    }
   ],
   "source": [
    "def error_fig(mapes, mypath):\n",
    "    mape_results = pd.DataFrame()\n",
    "    mape_results['MAPE'] = mapes\n",
    "    mape_results.index = mape_results.index + 1\n",
    "    \n",
    "    mean = np.round(float(np.mean(mape_results)), 2) \n",
    "    std = np.round(float(np.std(mape_results)), 2)\n",
    "\n",
    "    fig = px.line(\n",
    "        mape_results, \n",
    "        labels={\"value\": 'MAPE', \"index\": 'Period'}, \n",
    "        title=f\"Overall Avg. MAPE={mean} with std deviation={std}\", \n",
    "        markers=True\n",
    "    )\n",
    "    fig.write_image(f\"{mypath}/Overall_Mean.png\", width=1186, height=360, scale=2)\n",
    "    fig.show()\n",
    "    return mean, std, mape_results\n",
    "\n",
    "mean, std, mape_results = error_fig(MAPE, initial_path)\n",
    "mean, std"
   ]
  },
  {
   "cell_type": "code",
   "execution_count": null,
   "metadata": {},
   "outputs": [],
   "source": []
  }
 ],
 "metadata": {
  "kernelspec": {
   "display_name": "tf216",
   "language": "python",
   "name": "python3"
  },
  "language_info": {
   "codemirror_mode": {
    "name": "ipython",
    "version": 3
   },
   "file_extension": ".py",
   "mimetype": "text/x-python",
   "name": "python",
   "nbconvert_exporter": "python",
   "pygments_lexer": "ipython3",
   "version": "3.11.10"
  }
 },
 "nbformat": 4,
 "nbformat_minor": 2
}
